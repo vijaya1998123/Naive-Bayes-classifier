{
  "cells": [
    {
      "cell_type": "code",
      "execution_count": 1,
      "metadata": {
        "id": "PnK7k27oOL_B"
      },
      "outputs": [],
      "source": [
        "import pandas as pd\n",
        "import collections\n",
        "import numpy as np"
      ]
    },
    {
      "cell_type": "code",
      "execution_count": 2,
      "metadata": {
        "id": "WTnvnCNbOL_C"
      },
      "outputs": [],
      "source": [
        "data = pd.read_csv(\"rt_reviews.csv\", encoding='ISO-8859-1')"
      ]
    },
    {
      "cell_type": "code",
      "execution_count": 3,
      "metadata": {
        "colab": {
          "base_uri": "https://localhost:8080/",
          "height": 206
        },
        "id": "xAnHVyUGOL_D",
        "outputId": "28efe719-8af1-4081-a1b2-713722cb0210"
      },
      "outputs": [
        {
          "output_type": "execute_result",
          "data": {
            "text/plain": [
              "  Freshness                                             Review\n",
              "0     fresh   Manakamana doesn't answer any questions, yet ...\n",
              "1     fresh   Wilfully offensive and powered by a chest-thu...\n",
              "2    rotten   It would be difficult to imagine material mor...\n",
              "3    rotten   Despite the gusto its star brings to the role...\n",
              "4    rotten   If there was a good idea at the core of this ..."
            ],
            "text/html": [
              "\n",
              "  <div id=\"df-4d15f270-7811-4bc8-af57-d2208cfd56c5\">\n",
              "    <div class=\"colab-df-container\">\n",
              "      <div>\n",
              "<style scoped>\n",
              "    .dataframe tbody tr th:only-of-type {\n",
              "        vertical-align: middle;\n",
              "    }\n",
              "\n",
              "    .dataframe tbody tr th {\n",
              "        vertical-align: top;\n",
              "    }\n",
              "\n",
              "    .dataframe thead th {\n",
              "        text-align: right;\n",
              "    }\n",
              "</style>\n",
              "<table border=\"1\" class=\"dataframe\">\n",
              "  <thead>\n",
              "    <tr style=\"text-align: right;\">\n",
              "      <th></th>\n",
              "      <th>Freshness</th>\n",
              "      <th>Review</th>\n",
              "    </tr>\n",
              "  </thead>\n",
              "  <tbody>\n",
              "    <tr>\n",
              "      <th>0</th>\n",
              "      <td>fresh</td>\n",
              "      <td>Manakamana doesn't answer any questions, yet ...</td>\n",
              "    </tr>\n",
              "    <tr>\n",
              "      <th>1</th>\n",
              "      <td>fresh</td>\n",
              "      <td>Wilfully offensive and powered by a chest-thu...</td>\n",
              "    </tr>\n",
              "    <tr>\n",
              "      <th>2</th>\n",
              "      <td>rotten</td>\n",
              "      <td>It would be difficult to imagine material mor...</td>\n",
              "    </tr>\n",
              "    <tr>\n",
              "      <th>3</th>\n",
              "      <td>rotten</td>\n",
              "      <td>Despite the gusto its star brings to the role...</td>\n",
              "    </tr>\n",
              "    <tr>\n",
              "      <th>4</th>\n",
              "      <td>rotten</td>\n",
              "      <td>If there was a good idea at the core of this ...</td>\n",
              "    </tr>\n",
              "  </tbody>\n",
              "</table>\n",
              "</div>\n",
              "      <button class=\"colab-df-convert\" onclick=\"convertToInteractive('df-4d15f270-7811-4bc8-af57-d2208cfd56c5')\"\n",
              "              title=\"Convert this dataframe to an interactive table.\"\n",
              "              style=\"display:none;\">\n",
              "        \n",
              "  <svg xmlns=\"http://www.w3.org/2000/svg\" height=\"24px\"viewBox=\"0 0 24 24\"\n",
              "       width=\"24px\">\n",
              "    <path d=\"M0 0h24v24H0V0z\" fill=\"none\"/>\n",
              "    <path d=\"M18.56 5.44l.94 2.06.94-2.06 2.06-.94-2.06-.94-.94-2.06-.94 2.06-2.06.94zm-11 1L8.5 8.5l.94-2.06 2.06-.94-2.06-.94L8.5 2.5l-.94 2.06-2.06.94zm10 10l.94 2.06.94-2.06 2.06-.94-2.06-.94-.94-2.06-.94 2.06-2.06.94z\"/><path d=\"M17.41 7.96l-1.37-1.37c-.4-.4-.92-.59-1.43-.59-.52 0-1.04.2-1.43.59L10.3 9.45l-7.72 7.72c-.78.78-.78 2.05 0 2.83L4 21.41c.39.39.9.59 1.41.59.51 0 1.02-.2 1.41-.59l7.78-7.78 2.81-2.81c.8-.78.8-2.07 0-2.86zM5.41 20L4 18.59l7.72-7.72 1.47 1.35L5.41 20z\"/>\n",
              "  </svg>\n",
              "      </button>\n",
              "      \n",
              "  <style>\n",
              "    .colab-df-container {\n",
              "      display:flex;\n",
              "      flex-wrap:wrap;\n",
              "      gap: 12px;\n",
              "    }\n",
              "\n",
              "    .colab-df-convert {\n",
              "      background-color: #E8F0FE;\n",
              "      border: none;\n",
              "      border-radius: 50%;\n",
              "      cursor: pointer;\n",
              "      display: none;\n",
              "      fill: #1967D2;\n",
              "      height: 32px;\n",
              "      padding: 0 0 0 0;\n",
              "      width: 32px;\n",
              "    }\n",
              "\n",
              "    .colab-df-convert:hover {\n",
              "      background-color: #E2EBFA;\n",
              "      box-shadow: 0px 1px 2px rgba(60, 64, 67, 0.3), 0px 1px 3px 1px rgba(60, 64, 67, 0.15);\n",
              "      fill: #174EA6;\n",
              "    }\n",
              "\n",
              "    [theme=dark] .colab-df-convert {\n",
              "      background-color: #3B4455;\n",
              "      fill: #D2E3FC;\n",
              "    }\n",
              "\n",
              "    [theme=dark] .colab-df-convert:hover {\n",
              "      background-color: #434B5C;\n",
              "      box-shadow: 0px 1px 3px 1px rgba(0, 0, 0, 0.15);\n",
              "      filter: drop-shadow(0px 1px 2px rgba(0, 0, 0, 0.3));\n",
              "      fill: #FFFFFF;\n",
              "    }\n",
              "  </style>\n",
              "\n",
              "      <script>\n",
              "        const buttonEl =\n",
              "          document.querySelector('#df-4d15f270-7811-4bc8-af57-d2208cfd56c5 button.colab-df-convert');\n",
              "        buttonEl.style.display =\n",
              "          google.colab.kernel.accessAllowed ? 'block' : 'none';\n",
              "\n",
              "        async function convertToInteractive(key) {\n",
              "          const element = document.querySelector('#df-4d15f270-7811-4bc8-af57-d2208cfd56c5');\n",
              "          const dataTable =\n",
              "            await google.colab.kernel.invokeFunction('convertToInteractive',\n",
              "                                                     [key], {});\n",
              "          if (!dataTable) return;\n",
              "\n",
              "          const docLinkHtml = 'Like what you see? Visit the ' +\n",
              "            '<a target=\"_blank\" href=https://colab.research.google.com/notebooks/data_table.ipynb>data table notebook</a>'\n",
              "            + ' to learn more about interactive tables.';\n",
              "          element.innerHTML = '';\n",
              "          dataTable['output_type'] = 'display_data';\n",
              "          await google.colab.output.renderOutput(dataTable, element);\n",
              "          const docLink = document.createElement('div');\n",
              "          docLink.innerHTML = docLinkHtml;\n",
              "          element.appendChild(docLink);\n",
              "        }\n",
              "      </script>\n",
              "    </div>\n",
              "  </div>\n",
              "  "
            ]
          },
          "metadata": {},
          "execution_count": 3
        }
      ],
      "source": [
        "data.head()"
      ]
    },
    {
      "cell_type": "code",
      "execution_count": 4,
      "metadata": {
        "colab": {
          "base_uri": "https://localhost:8080/"
        },
        "id": "sPZkR-gFOL_E",
        "outputId": "e5dbea9a-3488-4899-8ea2-597acfd4a0e1"
      },
      "outputs": [
        {
          "output_type": "execute_result",
          "data": {
            "text/plain": [
              "480000"
            ]
          },
          "metadata": {},
          "execution_count": 4
        }
      ],
      "source": [
        "len(data)"
      ]
    },
    {
      "cell_type": "code",
      "execution_count": 6,
      "metadata": {
        "id": "N8Dp7kM0OL_F"
      },
      "outputs": [],
      "source": [
        "# Using 50% data for training \n",
        "# Using 30% data for development dataset \n",
        "# Using 20% data for testing\n",
        "\n",
        "train_ratio = 0.5\n",
        "dev_ratio = 0.3\n",
        "test_ratio = 0.2\n",
        "\n",
        "total_rows = len(data)\n",
        "train_idx = int(train_ratio * total_rows)\n",
        "dev_idx = int((train_ratio + dev_ratio) * total_rows)\n",
        "\n",
        "shuffled_data = data.sample(frac=1, random_state=42)\n",
        "\n",
        "train_data = shuffled_data.iloc[:train_idx, :]\n",
        "dev_data = shuffled_data.iloc[train_idx:dev_idx, :]\n",
        "test_data = shuffled_data.iloc[dev_idx:, :]\n"
      ]
    },
    {
      "cell_type": "code",
      "execution_count": 7,
      "metadata": {
        "colab": {
          "base_uri": "https://localhost:8080/"
        },
        "id": "ZDHWntx4OL_F",
        "outputId": "ee2f28ac-84ef-4f81-cdc1-90269694db0e"
      },
      "outputs": [
        {
          "output_type": "stream",
          "name": "stdout",
          "text": [
            "Vocabulary:\n",
            "['\"A', '\"Alien\"', '\"All', '\"American', '\"Black', '\"Dark', '\"Don\\'t', '\"Fantastic', '\"Fifty', '\"First']\n",
            "\n",
            "Reverse Index:\n",
            "{'\"A': 0, '\"Alien\"': 1, '\"All': 2, '\"American': 3, '\"Black': 4, '\"Dark': 5, '\"Don\\'t': 6, '\"Fantastic': 7, '\"Fifty': 8, '\"First': 9}\n"
          ]
        }
      ],
      "source": [
        "# Combining all the reviews to create the inverted indices\n",
        "# we are ignoring the class to which the review belongs to\n",
        "# this is becasue class is not relavent\n",
        "all_reviews = ' '.join(data['Review'].tolist())\n",
        "# getting the tokens\n",
        "tokens = all_reviews.split()\n",
        "\n",
        "# getting word count, we use collections library to count the words frequency\n",
        "word_counts = collections.Counter(tokens)\n",
        "\n",
        "# filtering the rare words, only keeping the words that have frequency bigger than 5\n",
        "filtered_words = [word for word, count in word_counts.items() if count >= 5]\n",
        "# making the vocabulary \n",
        "vocabulary = sorted(set(filtered_words))\n",
        "# generating reverse indices\n",
        "reverse_index = {word: idx for idx, word in enumerate(vocabulary)}\n",
        "\n",
        "print(\"Vocabulary:\")\n",
        "print(vocabulary[:10])  \n",
        "print(\"\\nReverse Index:\")\n",
        "print(dict(list(reverse_index.items())[:10]))"
      ]
    },
    {
      "cell_type": "code",
      "execution_count": 8,
      "metadata": {
        "colab": {
          "base_uri": "https://localhost:8080/"
        },
        "id": "F5YNCNjZOL_F",
        "outputId": "381f9d79-37d3-42b5-fcd1-1d459dc7e8c4"
      },
      "outputs": [
        {
          "output_type": "stream",
          "name": "stdout",
          "text": [
            "P(\"the\") = 0.6495\n",
            "P(\"the\" | fresh) = 0.6494352952883228\n"
          ]
        }
      ],
      "source": [
        "word = \"the\"\n",
        "sentiment = \"fresh\"\n",
        "# finding the documents that contain this word\n",
        "num_docs_with_word = data['Review'].apply(lambda x: word in x).sum()\n",
        "\n",
        "# Probability that a document will contain the word the\n",
        "p_word = num_docs_with_word / len(data)\n",
        "\n",
        "# extracting all reviews that say fresh\n",
        "fresh_reviews = data[data['Freshness'] == sentiment]\n",
        "\n",
        "# number of documents that contain the word in fresh class\n",
        "num_pos_docs_with_word = fresh_reviews['Review'].apply(lambda x: word in x).sum()\n",
        "\n",
        "# probability that the word is present given the review is fresh\n",
        "p_word_given_fresh = num_pos_docs_with_word / len(fresh_reviews)\n",
        "\n",
        "print(f'P(\"{word}\") = {p_word}')\n",
        "print(f'P(\"{word}\" | {sentiment}) = {p_word_given_fresh}')\n"
      ]
    },
    {
      "cell_type": "code",
      "execution_count": 9,
      "metadata": {
        "id": "vrYPRYh1OL_G"
      },
      "outputs": [],
      "source": [
        "\n",
        "# This will be used to extract binary features\n",
        "def extract_features(review, vocabulary):\n",
        "    features = np.zeros(len(vocabulary), dtype=int)\n",
        "    words = review.split()\n",
        "    for word in words:\n",
        "        if word in vocabulary:\n",
        "            index = reverse_index[word]\n",
        "            features[index] = 1\n",
        "    return features\n",
        "\n",
        "num_classes = 2  #we have two classes fresh and rotten\n"
      ]
    },
    {
      "cell_type": "code",
      "execution_count": 10,
      "metadata": {
        "id": "O_10qnFnOL_G"
      },
      "outputs": [],
      "source": [
        "# Extracting features\n",
        "train_features = np.array([extract_features(review, vocabulary) for review in train_data['Review']])\n",
        "train_labels = (train_data['Freshness'] == 'fresh').astype(int)\n",
        "test_features = np.array([extract_features(review, vocabulary) for review in test_data['Review']])\n",
        "test_labels = (test_data['Freshness'] == 'fresh').astype(int)\n",
        "dev_features = np.array([extract_features(review, vocabulary) for review in dev_data['Review']])\n",
        "dev_labels = (dev_data['Freshness'] == 'fresh').astype(int)"
      ]
    },
    {
      "cell_type": "code",
      "execution_count": 11,
      "metadata": {
        "id": "8kKQ4MzUOL_H"
      },
      "outputs": [],
      "source": [
        "alpha = 1  # using alpha = 1 for smoothing\n",
        "\n",
        "# Calculating prior class probabilities\n",
        "class_priors = np.zeros(num_classes)\n",
        "for c in range(num_classes):\n",
        "    class_priors[c] = (train_labels == c).sum() / len(train_labels)\n",
        "\n",
        "# Calculating class-conditional probabilities\n",
        "class_conditional_probs = np.zeros((num_classes, len(vocabulary)))\n",
        "for c in range(num_classes):\n",
        "    class_docs = train_features[train_labels == c]\n",
        "    class_word_counts = class_docs.sum(axis=0)\n",
        "    class_total_words = class_docs.sum()\n",
        "    class_conditional_probs[c] = (class_word_counts + alpha) / (class_total_words + alpha * len(vocabulary))"
      ]
    },
    {
      "cell_type": "code",
      "execution_count": 12,
      "metadata": {
        "id": "vTGHxh98OL_H",
        "colab": {
          "base_uri": "https://localhost:8080/"
        },
        "outputId": "d9d648b6-2f79-43ee-b95b-937411612e03"
      },
      "outputs": [
        {
          "output_type": "stream",
          "name": "stdout",
          "text": [
            "Accuracy: 73.97%\n"
          ]
        }
      ],
      "source": [
        "# Predicting freshness for dev data using Naive Bayes classifier\n",
        "predictions = np.zeros(dev_features.shape[0], dtype=int)\n",
        "for i, review_features in enumerate(dev_features):\n",
        "    # Calculating the log probabilities\n",
        "    log_probs = np.log(class_priors) + np.dot(review_features, np.log(class_conditional_probs).T)\n",
        "    predictions[i] = np.argmax(log_probs)\n",
        "accuracy = (predictions == dev_labels).sum() / len(dev_labels)\n",
        "print(f\"Accuracy: {accuracy * 100:.2f}%\")"
      ]
    },
    {
      "cell_type": "code",
      "execution_count": 13,
      "metadata": {
        "id": "ktfbUlUkOL_H",
        "colab": {
          "base_uri": "https://localhost:8080/"
        },
        "outputId": "3b2d5de9-9ecd-42a9-e5ba-4f76fcb32767"
      },
      "outputs": [
        {
          "output_type": "stream",
          "name": "stderr",
          "text": [
            "<ipython-input-13-04cdf90c4de6>:18: RuntimeWarning: divide by zero encountered in log\n",
            "  log_probs = np.log(class_priors) + np.dot(review_features, np.log(class_conditional_probs).T)\n"
          ]
        },
        {
          "output_type": "stream",
          "name": "stdout",
          "text": [
            "Alpha: 0, Accuracy: 49.16%\n",
            "Alpha: 0.1, Accuracy: 72.75%\n",
            "Alpha: 0.5, Accuracy: 73.83%\n",
            "Alpha: 1, Accuracy: 73.90%\n",
            "Alpha: 2, Accuracy: 74.22%\n",
            "Alpha: 5, Accuracy: 74.01%\n",
            "Alpha: 10, Accuracy: 73.20%\n"
          ]
        }
      ],
      "source": [
        "# Testing our code with different smoothing values\n",
        "alphas = [0, 0.1, 0.5, 1, 2, 5, 10] \n",
        "# To store the best value of alpha, initializing to -1 and setting accuracy to 0\n",
        "optimal_alpha = {\"alpha\": -1, \"accuracy\":0}\n",
        "for alpha in alphas:\n",
        "    # Calculating class-conditional probabilities using different alpha values\n",
        "    class_conditional_probs = np.zeros((num_classes, len(vocabulary)))\n",
        "    for c in range(num_classes):\n",
        "        class_docs = train_features[train_labels == c]\n",
        "        class_word_counts = class_docs.sum(axis=0)\n",
        "        class_total_words = class_docs.sum()\n",
        "        class_conditional_probs[c] = (class_word_counts + alpha) / (class_total_words + alpha * len(vocabulary))\n",
        "\n",
        "    # Predicting the freshness\n",
        "    predictions = np.zeros(test_features.shape[0], dtype=int)\n",
        "\n",
        "    for i, review_features in enumerate(test_features):\n",
        "        log_probs = np.log(class_priors) + np.dot(review_features, np.log(class_conditional_probs).T)\n",
        "        predictions[i] = np.argmax(log_probs)\n",
        "\n",
        "    # Calculating the frequency\n",
        "    accuracy = (predictions == test_labels).sum() / len(test_labels)\n",
        "    # If current alpha gives the optimal accuracy, updating optimal alpha\n",
        "    if accuracy > optimal_alpha[\"accuracy\"]:\n",
        "        optimal_alpha = {\"alpha\": alpha, \"accuracy\":accuracy}\n",
        "    \n",
        "    print(f\"Alpha: {alpha}, Accuracy: {accuracy * 100:.2f}%\")\n",
        "    \n"
      ]
    },
    {
      "cell_type": "code",
      "source": [
        "\n",
        "import matplotlib.pyplot as plt\n",
        "ypoints = np.array([49.16,72.75,73.83,73.90,74.22,74.01,73.20])\n",
        "xpoints = np.array([0, 0.1, 0.5, 1, 2, 5, 10] )\n",
        "\n",
        "plt.ylabel('accuracy')\n",
        "plt.xlabel('alpha')\n",
        "plt.plot(xpoints, ypoints)\n",
        "plt.show()"
      ],
      "metadata": {
        "colab": {
          "base_uri": "https://localhost:8080/",
          "height": 449
        },
        "id": "OX_mtYceyXx3",
        "outputId": "0682160b-2e98-40f6-bc8f-2b67c3879201"
      },
      "execution_count": 14,
      "outputs": [
        {
          "output_type": "display_data",
          "data": {
            "text/plain": [
              "<Figure size 640x480 with 1 Axes>"
            ],
            "image/png": "[encoded data removed]"
          },
          "metadata": {}
        }
      ]
    },
    {
      "cell_type": "code",
      "execution_count": 18,
      "metadata": {
        "id": "YivJxHK9OL_I",
        "colab": {
          "base_uri": "https://localhost:8080/"
        },
        "outputId": "f1f61125-f2c5-42f1-d47a-86abea2efe2a"
      },
      "outputs": [
        {
          "output_type": "stream",
          "name": "stdout",
          "text": [
            "Top 10 words in rotten:\n",
            "boring,, Feels, fails, waste, dull,, forgettable., mess., lame, Sadly,, Unfortunately,\n",
            "Top 10 words in fresh:\n",
            "intimate, finest, moving,, outstanding, bittersweet, exquisite, refreshingly, dazzling, quietly, delicate\n"
          ]
        }
      ],
      "source": [
        "# Calculating P(word|class)*P(class) for each class and word\n",
        "p_word_class = (class_conditional_probs.T * class_priors).T\n",
        "\n",
        "# Calculating P(word) for each word\n",
        "p_word = np.sum(p_word_class, axis=0)\n",
        "\n",
        "# Calculate P(class|word) for each class and word\n",
        "p_class_given_word = p_word_class / p_word\n",
        "\n",
        "# Finding the top 10 words\n",
        "num_top_words = 10\n",
        "top_words_indices =np.argpartition(p_class_given_word, -num_top_words, axis=1)[:,-num_top_words:]\n",
        "\n",
        "# Map the topwords indices to words\n",
        "top_words= {}\n",
        "for c in range(num_classes):\n",
        "    top_words[c] = [vocabulary[i] for i in top_words_indices[c]]\n",
        "\n",
        "# Display the top 10 words for each class\n",
        "for c, words in top_words.items():\n",
        "    class_name = \"fresh\" if c != 0 else \"rotten\"\n",
        "    print(f\"Top 10 words in {class_name}:\")\n",
        "    print(\", \".join(words))\n",
        "\n"
      ]
    },
    {
      "cell_type": "code",
      "execution_count": 16,
      "metadata": {
        "id": "S4A8KS8nOL_I",
        "colab": {
          "base_uri": "https://localhost:8080/"
        },
        "outputId": "bb9bbf84-2c68-4bc6-fdcd-ad9ef587f287"
      },
      "outputs": [
        {
          "output_type": "stream",
          "name": "stdout",
          "text": [
            "Final Accuracy: 74.22%\n"
          ]
        }
      ],
      "source": [
        "alpha = optimal_alpha[\"alpha\"]  # using optimal alpha\n",
        "\n",
        "# Calculating prior class probabilities\n",
        "class_priors = np.zeros(num_classes)\n",
        "for c in range(num_classes):\n",
        "    class_priors[c] = (train_labels == c).sum() / len(train_labels)\n",
        "\n",
        "# Calculating class-conditional probabilities\n",
        "class_conditional_probs = np.zeros((num_classes, len(vocabulary)))\n",
        "for c in range(num_classes):\n",
        "    class_docs = train_features[train_labels == c]\n",
        "    class_word_counts = class_docs.sum(axis=0)\n",
        "    class_total_words = class_docs.sum()\n",
        "    class_conditional_probs[c] = (class_word_counts + alpha) / (class_total_words + alpha * len(vocabulary))\n",
        "\n",
        "# Predicting freshness for test data using Naive Bayes classifier\n",
        "predictions = np.zeros(test_features.shape[0], dtype=int)\n",
        "for i, review_features in enumerate(test_features):\n",
        "    # Calculating the log probabilities\n",
        "    log_probs = np.log(class_priors) + np.dot(review_features, np.log(class_conditional_probs).T)\n",
        "    predictions[i] = np.argmax(log_probs)\n",
        "accuracy = (predictions == test_labels).sum() / len(test_labels)\n",
        "print(f\"Final Accuracy: {accuracy * 100:.2f}%\")\n"
      ]
    }
  ],
  "metadata": {
    "kernelspec": {
      "display_name": "Python 3",
      "language": "python",
      "name": "python3"
    },
    "language_info": {
      "codemirror_mode": {
        "name": "ipython",
        "version": 3
      },
      "file_extension": ".py",
      "mimetype": "text/x-python",
      "name": "python",
      "nbconvert_exporter": "python",
      "pygments_lexer": "ipython3",
      "version": "3.11.2"
    },
    "orig_nbformat": 4,
    "colab": {
      "provenance": []
    },
    "gpuClass": "standard"
  },
  "nbformat": 4,
  "nbformat_minor": 0
}